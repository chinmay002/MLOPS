{
  "cells": [
    {
      "cell_type": "markdown",
      "metadata": {
        "id": "sUGzDDEQpsnD"
      },
      "source": [
        "# Diving Deeper into Weights & Biases\n",
        "\n",
        "<!--- @wandbcode{mlops-zoomcamp} -->\n",
        "\n",
        "In this notebook, we will explore the following\n",
        "\n",
        "* Versioning datasets using [Artifacts](https://docs.wandb.ai/guides/artifacts).\n",
        "* Exploring and visualizing our datasets with [Tables](https://docs.wandb.ai/guides/data-vis).\n",
        "* Baseline Experiment with a Random Forest Classification Model."
      ]
    },
    {
      "cell_type": "markdown",
      "metadata": {
        "id": "O4tKuH3jpsnF"
      },
      "source": [
        "## Import the Libraries"
      ]
    },
    {
      "cell_type": "code",
      "execution_count": null,
      "metadata": {
        "id": "Wjphi9Z-psnG"
      },
      "outputs": [],
      "source": [
        "import os\n",
        "import pickle\n",
        "#pip install wandb\n",
        "import wandb\n",
        "import pandas as pd\n",
        "\n",
        "from sklearn.ensemble import RandomForestClassifier\n",
        "from sklearn.metrics import accuracy_score, f1_score, precision_score, recall_score"
      ]
    },
    {
      "cell_type": "markdown",
      "metadata": {
        "id": "S7YzAv3zpsnH"
      },
      "source": [
        "## Logging Dataset to Artifacts"
      ]
    },
    {
      "cell_type": "markdown",
      "metadata": {
        "id": "jBBA0PAMpsnH"
      },
      "source": [
        "Download the `train.csv` and `test.csv` files from [Titanic - Machine Learning from Disaster](https://www.kaggle.com/competitions/titanic/data) and place them in the `data` directory."
      ]
    },
    {
      "cell_type": "code",
      "source": [
        "# Initialize a WandB Run\n",
        "wandb.init(project='mlops_zoomcamp_wandb',job_type='log_data')\n",
        "\n",
        "\n",
        "# Log the `data` directory as an artifact\n",
        "artifact = wandb.Artifact('Titanic',type = 'dataset',metadata = {\"Source\": \"https://www.kaggle.com/competitions/titanic/data\"})\n",
        "artifact.add_dir('data')\n",
        "wandb.log_artifact(artifact)\n",
        "\n",
        "# End the WandB Run\n",
        "wandb.finish()"
      ],
      "metadata": {
        "colab": {
          "base_uri": "https://localhost:8080/",
          "height": 211
        },
        "id": "9BwL3PtltIy0",
        "outputId": "e79e9e0b-a68b-4fa6-97a2-7d204483098e"
      },
      "execution_count": null,
      "outputs": [
        {
          "output_type": "stream",
          "name": "stderr",
          "text": [
            "\u001b[34m\u001b[1mwandb\u001b[0m: Currently logged in as: \u001b[33mchinmaymaganur\u001b[0m (\u001b[33mcamaganu\u001b[0m). Use \u001b[1m`wandb login --relogin`\u001b[0m to force relogin\n"
          ]
        },
        {
          "output_type": "display_data",
          "data": {
            "text/plain": [
              "<IPython.core.display.HTML object>"
            ],
            "text/html": [
              "Tracking run with wandb version 0.15.3"
            ]
          },
          "metadata": {}
        },
        {
          "output_type": "display_data",
          "data": {
            "text/plain": [
              "<IPython.core.display.HTML object>"
            ],
            "text/html": [
              "Run data is saved locally in <code>/content/wandb/run-20230604_220222-ihdyw65g</code>"
            ]
          },
          "metadata": {}
        },
        {
          "output_type": "display_data",
          "data": {
            "text/plain": [
              "<IPython.core.display.HTML object>"
            ],
            "text/html": [
              "Syncing run <strong><a href='https://wandb.ai/camaganu/mlops_zoomcamp_wandb/runs/ihdyw65g' target=\"_blank\">avid-salad-6</a></strong> to <a href='https://wandb.ai/camaganu/mlops_zoomcamp_wandb' target=\"_blank\">Weights & Biases</a> (<a href='https://wandb.me/run' target=\"_blank\">docs</a>)<br/>"
            ]
          },
          "metadata": {}
        },
        {
          "output_type": "display_data",
          "data": {
            "text/plain": [
              "<IPython.core.display.HTML object>"
            ],
            "text/html": [
              " View project at <a href='https://wandb.ai/camaganu/mlops_zoomcamp_wandb' target=\"_blank\">https://wandb.ai/camaganu/mlops_zoomcamp_wandb</a>"
            ]
          },
          "metadata": {}
        },
        {
          "output_type": "display_data",
          "data": {
            "text/plain": [
              "<IPython.core.display.HTML object>"
            ],
            "text/html": [
              " View run at <a href='https://wandb.ai/camaganu/mlops_zoomcamp_wandb/runs/ihdyw65g' target=\"_blank\">https://wandb.ai/camaganu/mlops_zoomcamp_wandb/runs/ihdyw65g</a>"
            ]
          },
          "metadata": {}
        },
        {
          "output_type": "stream",
          "name": "stderr",
          "text": [
            "\u001b[34m\u001b[1mwandb\u001b[0m: Adding directory to artifact (./data)... Done. 0.0s\n"
          ]
        },
        {
          "output_type": "display_data",
          "data": {
            "text/plain": [
              "<IPython.core.display.HTML object>"
            ],
            "text/html": [
              "Waiting for W&B process to finish... <strong style=\"color:green\">(success).</strong>"
            ]
          },
          "metadata": {}
        },
        {
          "output_type": "display_data",
          "data": {
            "text/plain": [
              "<IPython.core.display.HTML object>"
            ],
            "text/html": [
              " View run <strong style=\"color:#cdcd00\">avid-salad-6</strong> at: <a href='https://wandb.ai/camaganu/mlops_zoomcamp_wandb/runs/ihdyw65g' target=\"_blank\">https://wandb.ai/camaganu/mlops_zoomcamp_wandb/runs/ihdyw65g</a><br/>Synced 5 W&B file(s), 0 media file(s), 0 artifact file(s) and 0 other file(s)"
            ]
          },
          "metadata": {}
        },
        {
          "output_type": "display_data",
          "data": {
            "text/plain": [
              "<IPython.core.display.HTML object>"
            ],
            "text/html": [
              "Find logs at: <code>./wandb/run-20230604_220222-ihdyw65g/logs</code>"
            ]
          },
          "metadata": {}
        }
      ]
    },
    {
      "cell_type": "code",
      "execution_count": null,
      "metadata": {
        "colab": {
          "base_uri": "https://localhost:8080/",
          "height": 257,
          "referenced_widgets": [
            "2c9567142385495d9ce6013e5375dd77",
            "b74791a9ff1c4b3aaf0cfdca8daad423",
            "bc9b6da999034568bfa7f4e101bdc865",
            "babfe588a051446982fbc22c08bcb6b2",
            "af595ff023d546cba465f93b5e71172a",
            "57d8e16235264dfa9d0da6d67d63d9e5",
            "4dc3dcb49a514990867de4301651f963",
            "e726b97a15ab4e739d26a05765727ff1"
          ]
        },
        "id": "VVkabCfPpsnH",
        "outputId": "033bc381-b927-49a4-f92a-4653fd44c7f1"
      },
      "outputs": [
        {
          "output_type": "display_data",
          "data": {
            "text/plain": [
              "<IPython.core.display.HTML object>"
            ],
            "text/html": [
              "Tracking run with wandb version 0.15.3"
            ]
          },
          "metadata": {}
        },
        {
          "output_type": "display_data",
          "data": {
            "text/plain": [
              "<IPython.core.display.HTML object>"
            ],
            "text/html": [
              "Run data is saved locally in <code>/content/wandb/run-20230604_220227-we6g4ncz</code>"
            ]
          },
          "metadata": {}
        },
        {
          "output_type": "display_data",
          "data": {
            "text/plain": [
              "<IPython.core.display.HTML object>"
            ],
            "text/html": [
              "Syncing run <strong><a href='https://wandb.ai/camaganu/mlops-zoomcamp-wandb/runs/we6g4ncz' target=\"_blank\">effortless-violet-5</a></strong> to <a href='https://wandb.ai/camaganu/mlops-zoomcamp-wandb' target=\"_blank\">Weights & Biases</a> (<a href='https://wandb.me/run' target=\"_blank\">docs</a>)<br/>"
            ]
          },
          "metadata": {}
        },
        {
          "output_type": "display_data",
          "data": {
            "text/plain": [
              "<IPython.core.display.HTML object>"
            ],
            "text/html": [
              " View project at <a href='https://wandb.ai/camaganu/mlops-zoomcamp-wandb' target=\"_blank\">https://wandb.ai/camaganu/mlops-zoomcamp-wandb</a>"
            ]
          },
          "metadata": {}
        },
        {
          "output_type": "display_data",
          "data": {
            "text/plain": [
              "<IPython.core.display.HTML object>"
            ],
            "text/html": [
              " View run at <a href='https://wandb.ai/camaganu/mlops-zoomcamp-wandb/runs/we6g4ncz' target=\"_blank\">https://wandb.ai/camaganu/mlops-zoomcamp-wandb/runs/we6g4ncz</a>"
            ]
          },
          "metadata": {}
        },
        {
          "output_type": "stream",
          "name": "stderr",
          "text": [
            "\u001b[34m\u001b[1mwandb\u001b[0m: Adding directory to artifact (./data)... Done. 0.0s\n"
          ]
        },
        {
          "output_type": "display_data",
          "data": {
            "text/plain": [
              "<IPython.core.display.HTML object>"
            ],
            "text/html": [
              "Waiting for W&B process to finish... <strong style=\"color:green\">(success).</strong>"
            ]
          },
          "metadata": {}
        },
        {
          "output_type": "display_data",
          "data": {
            "text/plain": [
              "VBox(children=(Label(value='0.092 MB of 0.092 MB uploaded (0.000 MB deduped)\\r'), FloatProgress(value=1.0, max…"
            ],
            "application/vnd.jupyter.widget-view+json": {
              "version_major": 2,
              "version_minor": 0,
              "model_id": "2c9567142385495d9ce6013e5375dd77"
            }
          },
          "metadata": {}
        },
        {
          "output_type": "display_data",
          "data": {
            "text/plain": [
              "<IPython.core.display.HTML object>"
            ],
            "text/html": [
              " View run <strong style=\"color:#cdcd00\">effortless-violet-5</strong> at: <a href='https://wandb.ai/camaganu/mlops-zoomcamp-wandb/runs/we6g4ncz' target=\"_blank\">https://wandb.ai/camaganu/mlops-zoomcamp-wandb/runs/we6g4ncz</a><br/>Synced 5 W&B file(s), 0 media file(s), 2 artifact file(s) and 0 other file(s)"
            ]
          },
          "metadata": {}
        },
        {
          "output_type": "display_data",
          "data": {
            "text/plain": [
              "<IPython.core.display.HTML object>"
            ],
            "text/html": [
              "Find logs at: <code>./wandb/run-20230604_220227-we6g4ncz/logs</code>"
            ]
          },
          "metadata": {}
        }
      ],
      "source": [
        "# Initialize a WandB Run\n",
        "wandb.init(project=\"mlops-zoomcamp-wandb\", job_type=\"log_data\")\n",
        "\n",
        "artifact = wandb.Artifact('Titanic', type='dataset', metadata={\"Source\": \"https://www.kaggle.com/competitions/titanic/data\"})\n",
        "artifact.add_dir('data')\n",
        "wandb.log_artifact(artifact)\n",
        "\n",
        "# End the WandB Run\n",
        "wandb.finish()"
      ]
    },
    {
      "cell_type": "markdown",
      "metadata": {
        "id": "yzT-gfa-psnI"
      },
      "source": [
        "## Versioning the Data"
      ]
    },
    {
      "cell_type": "code",
      "source": [
        "\n",
        "run = wandb.init(project='mlops_zoomcamp_wandb',job_type='log_data')\n",
        "artifact = run.use_artifact('camaganu/mlops_zoomcamp_wandb/Titanic:v0', type='dataset')\n",
        "artifact_dir = artifact.download()"
      ],
      "metadata": {
        "colab": {
          "base_uri": "https://localhost:8080/",
          "height": 123
        },
        "id": "r9unnqvsuxge",
        "outputId": "21b0cdc3-5f17-46f2-e5b6-be54ec5e2b08"
      },
      "execution_count": null,
      "outputs": [
        {
          "output_type": "display_data",
          "data": {
            "text/plain": [
              "<IPython.core.display.HTML object>"
            ],
            "text/html": [
              "Tracking run with wandb version 0.15.3"
            ]
          },
          "metadata": {}
        },
        {
          "output_type": "display_data",
          "data": {
            "text/plain": [
              "<IPython.core.display.HTML object>"
            ],
            "text/html": [
              "Run data is saved locally in <code>/content/wandb/run-20230604_220233-uof5nsdh</code>"
            ]
          },
          "metadata": {}
        },
        {
          "output_type": "display_data",
          "data": {
            "text/plain": [
              "<IPython.core.display.HTML object>"
            ],
            "text/html": [
              "Syncing run <strong><a href='https://wandb.ai/camaganu/mlops_zoomcamp_wandb/runs/uof5nsdh' target=\"_blank\">fast-yogurt-7</a></strong> to <a href='https://wandb.ai/camaganu/mlops_zoomcamp_wandb' target=\"_blank\">Weights & Biases</a> (<a href='https://wandb.me/run' target=\"_blank\">docs</a>)<br/>"
            ]
          },
          "metadata": {}
        },
        {
          "output_type": "display_data",
          "data": {
            "text/plain": [
              "<IPython.core.display.HTML object>"
            ],
            "text/html": [
              " View project at <a href='https://wandb.ai/camaganu/mlops_zoomcamp_wandb' target=\"_blank\">https://wandb.ai/camaganu/mlops_zoomcamp_wandb</a>"
            ]
          },
          "metadata": {}
        },
        {
          "output_type": "display_data",
          "data": {
            "text/plain": [
              "<IPython.core.display.HTML object>"
            ],
            "text/html": [
              " View run at <a href='https://wandb.ai/camaganu/mlops_zoomcamp_wandb/runs/uof5nsdh' target=\"_blank\">https://wandb.ai/camaganu/mlops_zoomcamp_wandb/runs/uof5nsdh</a>"
            ]
          },
          "metadata": {}
        },
        {
          "output_type": "stream",
          "name": "stderr",
          "text": [
            "\u001b[34m\u001b[1mwandb\u001b[0m:   2 of 2 files downloaded.  \n"
          ]
        }
      ]
    },
    {
      "cell_type": "code",
      "execution_count": null,
      "metadata": {
        "id": "tKI8I3ZwpsnI"
      },
      "outputs": [],
      "source": []
    },
    {
      "cell_type": "markdown",
      "metadata": {
        "id": "Z32MwLd1psnI"
      },
      "source": [
        "Read the dataset files"
      ]
    },
    {
      "cell_type": "code",
      "source": [
        "import os\n",
        "\n",
        "train = pd.read_csv(os.path.join(artifact_dir,'train.csv'))\n",
        "test = pd.read_csv(os.path.join(artifact_dir,'test.csv'))"
      ],
      "metadata": {
        "id": "mIYW1x06vDRB"
      },
      "execution_count": null,
      "outputs": []
    },
    {
      "cell_type": "code",
      "execution_count": null,
      "metadata": {
        "colab": {
          "base_uri": "https://localhost:8080/"
        },
        "id": "C0aTeqHRpsnI",
        "outputId": "e5d817cd-7899-439e-e42b-17a25a4c74b4"
      },
      "outputs": [
        {
          "output_type": "stream",
          "name": "stdout",
          "text": [
            "712 179\n"
          ]
        }
      ],
      "source": [
        "train_example_n = int(0.8*len(train))\n",
        "val_example_n = len(train) - train_example_n\n",
        "\n",
        "print(train_example_n,val_example_n)"
      ]
    },
    {
      "cell_type": "code",
      "execution_count": null,
      "metadata": {
        "id": "Drua61hnpsnI"
      },
      "outputs": [],
      "source": [
        "train['split'] = ['train'] * train_example_n + ['val'] * val_example_n\n",
        "train.to_csv('data/train.csv', encoding='utf-8', index=False)"
      ]
    },
    {
      "cell_type": "code",
      "execution_count": null,
      "metadata": {
        "colab": {
          "base_uri": "https://localhost:8080/",
          "height": 170,
          "referenced_widgets": [
            "dbd026653fc5458ebc2e175cd45dbcf1",
            "f7fa74d0b6134e778352feacb858c9b3",
            "fdb592df839f44039e84693cd6bc2e9c",
            "5435e304a9e941ae99fbb6a87ca940ba",
            "596a16b328f74e2f91895f7dc133b646",
            "4f71a45335a246199316af2ccd337aa5",
            "625423cbe2e448e4956f5d2dd8e7ac1a",
            "48296dc5c652461f8dacf3f6cd0d3f08"
          ]
        },
        "id": "Qv3jkRm5psnI",
        "outputId": "b01f95b0-e8f6-4fe4-c2ca-ad421e9b5855"
      },
      "outputs": [
        {
          "output_type": "stream",
          "name": "stderr",
          "text": [
            "\u001b[34m\u001b[1mwandb\u001b[0m: Adding directory to artifact (./data)... Done. 0.0s\n"
          ]
        },
        {
          "output_type": "display_data",
          "data": {
            "text/plain": [
              "<IPython.core.display.HTML object>"
            ],
            "text/html": [
              "Waiting for W&B process to finish... <strong style=\"color:green\">(success).</strong>"
            ]
          },
          "metadata": {}
        },
        {
          "output_type": "display_data",
          "data": {
            "text/plain": [
              "VBox(children=(Label(value='0.001 MB of 0.001 MB uploaded (0.000 MB deduped)\\r'), FloatProgress(value=1.0, max…"
            ],
            "application/vnd.jupyter.widget-view+json": {
              "version_major": 2,
              "version_minor": 0,
              "model_id": "dbd026653fc5458ebc2e175cd45dbcf1"
            }
          },
          "metadata": {}
        },
        {
          "output_type": "display_data",
          "data": {
            "text/plain": [
              "<IPython.core.display.HTML object>"
            ],
            "text/html": [
              " View run <strong style=\"color:#cdcd00\">fast-yogurt-7</strong> at: <a href='https://wandb.ai/camaganu/mlops_zoomcamp_wandb/runs/uof5nsdh' target=\"_blank\">https://wandb.ai/camaganu/mlops_zoomcamp_wandb/runs/uof5nsdh</a><br/>Synced 5 W&B file(s), 0 media file(s), 0 artifact file(s) and 0 other file(s)"
            ]
          },
          "metadata": {}
        },
        {
          "output_type": "display_data",
          "data": {
            "text/plain": [
              "<IPython.core.display.HTML object>"
            ],
            "text/html": [
              "Find logs at: <code>./wandb/run-20230604_220233-uof5nsdh/logs</code>"
            ]
          },
          "metadata": {}
        }
      ],
      "source": [
        "artifact = wandb.Artifact('Titanic',type = 'dataset',metadata = {\"Source\": \"https://www.kaggle.com/competitions/titanic/data\"})\n",
        "artifact.add_dir('data')\n",
        "wandb.log_artifact(artifact)\n",
        "wandb.finish()"
      ]
    },
    {
      "cell_type": "code",
      "execution_count": null,
      "metadata": {
        "id": "baFD5I7EpsnJ"
      },
      "outputs": [],
      "source": []
    },
    {
      "cell_type": "markdown",
      "metadata": {
        "id": "f-9kPuQGpsnJ"
      },
      "source": [
        "## Explore the Dataset"
      ]
    },
    {
      "cell_type": "code",
      "source": [
        "run = wandb.init(project='mlops_zoomcamp_wandb',job_type='explore_data')\n",
        "artifact = run.use_artifact('camaganu/mlops_zoomcamp_wandb/Titanic:v1', type='dataset')\n",
        "artifact_dir = artifact.download()\n",
        "\n",
        "\n",
        "# Read the files\n",
        "train_val_df = pd.read_csv(os.path.join(artifact_dir, \"train.csv\"))\n",
        "test_df = pd.read_csv(os.path.join(artifact_dir, \"test.csv\"))"
      ],
      "metadata": {
        "colab": {
          "base_uri": "https://localhost:8080/",
          "height": 123
        },
        "id": "vY-YP9u-w8Bk",
        "outputId": "bdd53a54-931a-4d9a-ea73-20c6c1a40ace"
      },
      "execution_count": null,
      "outputs": [
        {
          "output_type": "display_data",
          "data": {
            "text/plain": [
              "<IPython.core.display.HTML object>"
            ],
            "text/html": [
              "Tracking run with wandb version 0.15.3"
            ]
          },
          "metadata": {}
        },
        {
          "output_type": "display_data",
          "data": {
            "text/plain": [
              "<IPython.core.display.HTML object>"
            ],
            "text/html": [
              "Run data is saved locally in <code>/content/wandb/run-20230604_220239-pey87h0j</code>"
            ]
          },
          "metadata": {}
        },
        {
          "output_type": "display_data",
          "data": {
            "text/plain": [
              "<IPython.core.display.HTML object>"
            ],
            "text/html": [
              "Syncing run <strong><a href='https://wandb.ai/camaganu/mlops_zoomcamp_wandb/runs/pey87h0j' target=\"_blank\">pleasant-butterfly-8</a></strong> to <a href='https://wandb.ai/camaganu/mlops_zoomcamp_wandb' target=\"_blank\">Weights & Biases</a> (<a href='https://wandb.me/run' target=\"_blank\">docs</a>)<br/>"
            ]
          },
          "metadata": {}
        },
        {
          "output_type": "display_data",
          "data": {
            "text/plain": [
              "<IPython.core.display.HTML object>"
            ],
            "text/html": [
              " View project at <a href='https://wandb.ai/camaganu/mlops_zoomcamp_wandb' target=\"_blank\">https://wandb.ai/camaganu/mlops_zoomcamp_wandb</a>"
            ]
          },
          "metadata": {}
        },
        {
          "output_type": "display_data",
          "data": {
            "text/plain": [
              "<IPython.core.display.HTML object>"
            ],
            "text/html": [
              " View run at <a href='https://wandb.ai/camaganu/mlops_zoomcamp_wandb/runs/pey87h0j' target=\"_blank\">https://wandb.ai/camaganu/mlops_zoomcamp_wandb/runs/pey87h0j</a>"
            ]
          },
          "metadata": {}
        },
        {
          "output_type": "stream",
          "name": "stderr",
          "text": [
            "\u001b[34m\u001b[1mwandb\u001b[0m:   2 of 2 files downloaded.  \n"
          ]
        }
      ]
    },
    {
      "cell_type": "code",
      "execution_count": null,
      "metadata": {
        "colab": {
          "base_uri": "https://localhost:8080/",
          "height": 87
        },
        "id": "5fIjQ3cCpsnJ",
        "outputId": "594aee79-1d85-4dff-e912-4e34c2806ec1"
      },
      "outputs": [
        {
          "output_type": "display_data",
          "data": {
            "text/plain": [
              "<IPython.core.display.HTML object>"
            ],
            "text/html": [
              "Waiting for W&B process to finish... <strong style=\"color:green\">(success).</strong>"
            ]
          },
          "metadata": {}
        },
        {
          "output_type": "display_data",
          "data": {
            "text/plain": [
              "<IPython.core.display.HTML object>"
            ],
            "text/html": [
              " View run <strong style=\"color:#cdcd00\">pleasant-butterfly-8</strong> at: <a href='https://wandb.ai/camaganu/mlops_zoomcamp_wandb/runs/pey87h0j' target=\"_blank\">https://wandb.ai/camaganu/mlops_zoomcamp_wandb/runs/pey87h0j</a><br/>Synced 5 W&B file(s), 2 media file(s), 2 artifact file(s) and 0 other file(s)"
            ]
          },
          "metadata": {}
        },
        {
          "output_type": "display_data",
          "data": {
            "text/plain": [
              "<IPython.core.display.HTML object>"
            ],
            "text/html": [
              "Find logs at: <code>./wandb/run-20230604_220239-pey87h0j/logs</code>"
            ]
          },
          "metadata": {}
        }
      ],
      "source": [
        "train_val_table = wandb.Table(dataframe = train_val_df)\n",
        "test_table = wandb.Table(dataframe = test_df)\n",
        "\n",
        "wandb.log({'Train_Val_Table':train_val_table,\n",
        "           'Test_Table' : test_table})\n",
        "wandb.finish()\n"
      ]
    },
    {
      "cell_type": "code",
      "execution_count": null,
      "metadata": {
        "id": "5b1IcAv4psnJ"
      },
      "outputs": [],
      "source": []
    },
    {
      "cell_type": "markdown",
      "metadata": {
        "id": "hOUvht9MpsnJ"
      },
      "source": [
        "## Fit a Baseline Model"
      ]
    },
    {
      "cell_type": "code",
      "source": [
        "run = wandb.init(project=\"mlops-zoomcamp-wandb\",name='baseline_experinemt-2',job_type='train')\n",
        "artifact = run.use_artifact('camaganu/mlops_zoomcamp_wandb/Titanic:v1', type='dataset')\n",
        "artifact_dir = artifact.download()\n",
        "\n",
        "train_val_df = pd.read_csv(os.path.join(artifact_dir, \"train.csv\"))\n",
        "test_df = pd.read_csv(os.path.join(artifact_dir, \"test.csv\"))"
      ],
      "metadata": {
        "colab": {
          "base_uri": "https://localhost:8080/",
          "height": 123
        },
        "id": "xbRN84g_x5gr",
        "outputId": "2509a2f8-05f2-4d18-d793-006db63d2527"
      },
      "execution_count": null,
      "outputs": [
        {
          "output_type": "display_data",
          "data": {
            "text/plain": [
              "<IPython.core.display.HTML object>"
            ],
            "text/html": [
              "Tracking run with wandb version 0.15.3"
            ]
          },
          "metadata": {}
        },
        {
          "output_type": "display_data",
          "data": {
            "text/plain": [
              "<IPython.core.display.HTML object>"
            ],
            "text/html": [
              "Run data is saved locally in <code>/content/wandb/run-20230604_220247-v6a9czdd</code>"
            ]
          },
          "metadata": {}
        },
        {
          "output_type": "display_data",
          "data": {
            "text/plain": [
              "<IPython.core.display.HTML object>"
            ],
            "text/html": [
              "Syncing run <strong><a href='https://wandb.ai/camaganu/mlops-zoomcamp-wandb/runs/v6a9czdd' target=\"_blank\">baseline_experinemt-2</a></strong> to <a href='https://wandb.ai/camaganu/mlops-zoomcamp-wandb' target=\"_blank\">Weights & Biases</a> (<a href='https://wandb.me/run' target=\"_blank\">docs</a>)<br/>"
            ]
          },
          "metadata": {}
        },
        {
          "output_type": "display_data",
          "data": {
            "text/plain": [
              "<IPython.core.display.HTML object>"
            ],
            "text/html": [
              " View project at <a href='https://wandb.ai/camaganu/mlops-zoomcamp-wandb' target=\"_blank\">https://wandb.ai/camaganu/mlops-zoomcamp-wandb</a>"
            ]
          },
          "metadata": {}
        },
        {
          "output_type": "display_data",
          "data": {
            "text/plain": [
              "<IPython.core.display.HTML object>"
            ],
            "text/html": [
              " View run at <a href='https://wandb.ai/camaganu/mlops-zoomcamp-wandb/runs/v6a9czdd' target=\"_blank\">https://wandb.ai/camaganu/mlops-zoomcamp-wandb/runs/v6a9czdd</a>"
            ]
          },
          "metadata": {}
        },
        {
          "output_type": "stream",
          "name": "stderr",
          "text": [
            "\u001b[34m\u001b[1mwandb\u001b[0m:   2 of 2 files downloaded.  \n"
          ]
        }
      ]
    },
    {
      "cell_type": "code",
      "execution_count": null,
      "metadata": {
        "colab": {
          "base_uri": "https://localhost:8080/",
          "height": 206
        },
        "id": "mBk3CEpHpsnJ",
        "outputId": "4cb1c842-1f7d-4a5a-a1f2-41201d97ee1a"
      },
      "outputs": [
        {
          "output_type": "execute_result",
          "data": {
            "text/plain": [
              "   PassengerId  Survived  Pclass  \\\n",
              "0            1         0       3   \n",
              "1            2         1       1   \n",
              "2            3         1       3   \n",
              "3            4         1       1   \n",
              "4            5         0       3   \n",
              "\n",
              "                                                Name     Sex   Age  SibSp  \\\n",
              "0                            Braund, Mr. Owen Harris    male  22.0      1   \n",
              "1  Cumings, Mrs. John Bradley (Florence Briggs Th...  female  38.0      1   \n",
              "2                             Heikkinen, Miss. Laina  female  26.0      0   \n",
              "3       Futrelle, Mrs. Jacques Heath (Lily May Peel)  female  35.0      1   \n",
              "4                           Allen, Mr. William Henry    male  35.0      0   \n",
              "\n",
              "   Parch            Ticket     Fare Cabin Embarked  split  \n",
              "0      0         A/5 21171   7.2500   NaN        S  train  \n",
              "1      0          PC 17599  71.2833   C85        C  train  \n",
              "2      0  STON/O2. 3101282   7.9250   NaN        S  train  \n",
              "3      0            113803  53.1000  C123        S  train  \n",
              "4      0            373450   8.0500   NaN        S  train  "
            ],
            "text/html": [
              "\n",
              "  <div id=\"df-08031269-77cd-44ab-ba40-effe28598d19\">\n",
              "    <div class=\"colab-df-container\">\n",
              "      <div>\n",
              "<style scoped>\n",
              "    .dataframe tbody tr th:only-of-type {\n",
              "        vertical-align: middle;\n",
              "    }\n",
              "\n",
              "    .dataframe tbody tr th {\n",
              "        vertical-align: top;\n",
              "    }\n",
              "\n",
              "    .dataframe thead th {\n",
              "        text-align: right;\n",
              "    }\n",
              "</style>\n",
              "<table border=\"1\" class=\"dataframe\">\n",
              "  <thead>\n",
              "    <tr style=\"text-align: right;\">\n",
              "      <th></th>\n",
              "      <th>PassengerId</th>\n",
              "      <th>Survived</th>\n",
              "      <th>Pclass</th>\n",
              "      <th>Name</th>\n",
              "      <th>Sex</th>\n",
              "      <th>Age</th>\n",
              "      <th>SibSp</th>\n",
              "      <th>Parch</th>\n",
              "      <th>Ticket</th>\n",
              "      <th>Fare</th>\n",
              "      <th>Cabin</th>\n",
              "      <th>Embarked</th>\n",
              "      <th>split</th>\n",
              "    </tr>\n",
              "  </thead>\n",
              "  <tbody>\n",
              "    <tr>\n",
              "      <th>0</th>\n",
              "      <td>1</td>\n",
              "      <td>0</td>\n",
              "      <td>3</td>\n",
              "      <td>Braund, Mr. Owen Harris</td>\n",
              "      <td>male</td>\n",
              "      <td>22.0</td>\n",
              "      <td>1</td>\n",
              "      <td>0</td>\n",
              "      <td>A/5 21171</td>\n",
              "      <td>7.2500</td>\n",
              "      <td>NaN</td>\n",
              "      <td>S</td>\n",
              "      <td>train</td>\n",
              "    </tr>\n",
              "    <tr>\n",
              "      <th>1</th>\n",
              "      <td>2</td>\n",
              "      <td>1</td>\n",
              "      <td>1</td>\n",
              "      <td>Cumings, Mrs. John Bradley (Florence Briggs Th...</td>\n",
              "      <td>female</td>\n",
              "      <td>38.0</td>\n",
              "      <td>1</td>\n",
              "      <td>0</td>\n",
              "      <td>PC 17599</td>\n",
              "      <td>71.2833</td>\n",
              "      <td>C85</td>\n",
              "      <td>C</td>\n",
              "      <td>train</td>\n",
              "    </tr>\n",
              "    <tr>\n",
              "      <th>2</th>\n",
              "      <td>3</td>\n",
              "      <td>1</td>\n",
              "      <td>3</td>\n",
              "      <td>Heikkinen, Miss. Laina</td>\n",
              "      <td>female</td>\n",
              "      <td>26.0</td>\n",
              "      <td>0</td>\n",
              "      <td>0</td>\n",
              "      <td>STON/O2. 3101282</td>\n",
              "      <td>7.9250</td>\n",
              "      <td>NaN</td>\n",
              "      <td>S</td>\n",
              "      <td>train</td>\n",
              "    </tr>\n",
              "    <tr>\n",
              "      <th>3</th>\n",
              "      <td>4</td>\n",
              "      <td>1</td>\n",
              "      <td>1</td>\n",
              "      <td>Futrelle, Mrs. Jacques Heath (Lily May Peel)</td>\n",
              "      <td>female</td>\n",
              "      <td>35.0</td>\n",
              "      <td>1</td>\n",
              "      <td>0</td>\n",
              "      <td>113803</td>\n",
              "      <td>53.1000</td>\n",
              "      <td>C123</td>\n",
              "      <td>S</td>\n",
              "      <td>train</td>\n",
              "    </tr>\n",
              "    <tr>\n",
              "      <th>4</th>\n",
              "      <td>5</td>\n",
              "      <td>0</td>\n",
              "      <td>3</td>\n",
              "      <td>Allen, Mr. William Henry</td>\n",
              "      <td>male</td>\n",
              "      <td>35.0</td>\n",
              "      <td>0</td>\n",
              "      <td>0</td>\n",
              "      <td>373450</td>\n",
              "      <td>8.0500</td>\n",
              "      <td>NaN</td>\n",
              "      <td>S</td>\n",
              "      <td>train</td>\n",
              "    </tr>\n",
              "  </tbody>\n",
              "</table>\n",
              "</div>\n",
              "      <button class=\"colab-df-convert\" onclick=\"convertToInteractive('df-08031269-77cd-44ab-ba40-effe28598d19')\"\n",
              "              title=\"Convert this dataframe to an interactive table.\"\n",
              "              style=\"display:none;\">\n",
              "        \n",
              "  <svg xmlns=\"http://www.w3.org/2000/svg\" height=\"24px\"viewBox=\"0 0 24 24\"\n",
              "       width=\"24px\">\n",
              "    <path d=\"M0 0h24v24H0V0z\" fill=\"none\"/>\n",
              "    <path d=\"M18.56 5.44l.94 2.06.94-2.06 2.06-.94-2.06-.94-.94-2.06-.94 2.06-2.06.94zm-11 1L8.5 8.5l.94-2.06 2.06-.94-2.06-.94L8.5 2.5l-.94 2.06-2.06.94zm10 10l.94 2.06.94-2.06 2.06-.94-2.06-.94-.94-2.06-.94 2.06-2.06.94z\"/><path d=\"M17.41 7.96l-1.37-1.37c-.4-.4-.92-.59-1.43-.59-.52 0-1.04.2-1.43.59L10.3 9.45l-7.72 7.72c-.78.78-.78 2.05 0 2.83L4 21.41c.39.39.9.59 1.41.59.51 0 1.02-.2 1.41-.59l7.78-7.78 2.81-2.81c.8-.78.8-2.07 0-2.86zM5.41 20L4 18.59l7.72-7.72 1.47 1.35L5.41 20z\"/>\n",
              "  </svg>\n",
              "      </button>\n",
              "      \n",
              "  <style>\n",
              "    .colab-df-container {\n",
              "      display:flex;\n",
              "      flex-wrap:wrap;\n",
              "      gap: 12px;\n",
              "    }\n",
              "\n",
              "    .colab-df-convert {\n",
              "      background-color: #E8F0FE;\n",
              "      border: none;\n",
              "      border-radius: 50%;\n",
              "      cursor: pointer;\n",
              "      display: none;\n",
              "      fill: #1967D2;\n",
              "      height: 32px;\n",
              "      padding: 0 0 0 0;\n",
              "      width: 32px;\n",
              "    }\n",
              "\n",
              "    .colab-df-convert:hover {\n",
              "      background-color: #E2EBFA;\n",
              "      box-shadow: 0px 1px 2px rgba(60, 64, 67, 0.3), 0px 1px 3px 1px rgba(60, 64, 67, 0.15);\n",
              "      fill: #174EA6;\n",
              "    }\n",
              "\n",
              "    [theme=dark] .colab-df-convert {\n",
              "      background-color: #3B4455;\n",
              "      fill: #D2E3FC;\n",
              "    }\n",
              "\n",
              "    [theme=dark] .colab-df-convert:hover {\n",
              "      background-color: #434B5C;\n",
              "      box-shadow: 0px 1px 3px 1px rgba(0, 0, 0, 0.15);\n",
              "      filter: drop-shadow(0px 1px 2px rgba(0, 0, 0, 0.3));\n",
              "      fill: #FFFFFF;\n",
              "    }\n",
              "  </style>\n",
              "\n",
              "      <script>\n",
              "        const buttonEl =\n",
              "          document.querySelector('#df-08031269-77cd-44ab-ba40-effe28598d19 button.colab-df-convert');\n",
              "        buttonEl.style.display =\n",
              "          google.colab.kernel.accessAllowed ? 'block' : 'none';\n",
              "\n",
              "        async function convertToInteractive(key) {\n",
              "          const element = document.querySelector('#df-08031269-77cd-44ab-ba40-effe28598d19');\n",
              "          const dataTable =\n",
              "            await google.colab.kernel.invokeFunction('convertToInteractive',\n",
              "                                                     [key], {});\n",
              "          if (!dataTable) return;\n",
              "\n",
              "          const docLinkHtml = 'Like what you see? Visit the ' +\n",
              "            '<a target=\"_blank\" href=https://colab.research.google.com/notebooks/data_table.ipynb>data table notebook</a>'\n",
              "            + ' to learn more about interactive tables.';\n",
              "          element.innerHTML = '';\n",
              "          dataTable['output_type'] = 'display_data';\n",
              "          await google.colab.output.renderOutput(dataTable, element);\n",
              "          const docLink = document.createElement('div');\n",
              "          docLink.innerHTML = docLinkHtml;\n",
              "          element.appendChild(docLink);\n",
              "        }\n",
              "      </script>\n",
              "    </div>\n",
              "  </div>\n",
              "  "
            ]
          },
          "metadata": {},
          "execution_count": 12
        }
      ],
      "source": [
        "train_val_df.head()"
      ]
    },
    {
      "cell_type": "code",
      "source": [
        "features = ['Pclass','Sex','SibSp','Parch']\n",
        "X_train = pd.get_dummies(train_val_df[features][train_val_df[\"split\"] == \"train\"])\n",
        "X_val = pd.get_dummies(train_val_df[features][train_val_df[\"split\"] == \"val\"])\n",
        "y_train = train_val_df[\"Survived\"][train_val_df[\"split\"] == \"train\"]\n",
        "y_val = train_val_df[\"Survived\"][train_val_df[\"split\"] == \"val\"]"
      ],
      "metadata": {
        "id": "uz1Lu5k91g_6"
      },
      "execution_count": null,
      "outputs": []
    },
    {
      "cell_type": "code",
      "execution_count": null,
      "metadata": {
        "id": "yl6aR4G-psnK"
      },
      "outputs": [],
      "source": [
        "model_params = {'n_estimators': 100 , \"max_depth\": 10, \"random_state\":1}\n",
        "wandb.config = model_params\n",
        "\n",
        "model = RandomForestClassifier(**model_params)\n",
        "model.fit(X_train,y_train)\n",
        "y_pred_train = model.predict(X_train)\n",
        "y_probas_train = model.predict_proba(X_train)\n",
        "y_pred_val = model.predict(X_val)\n",
        "y_probas_val = model.predict_proba(X_val)"
      ]
    },
    {
      "cell_type": "code",
      "execution_count": null,
      "metadata": {
        "id": "_sobNDc8psnK"
      },
      "outputs": [],
      "source": [
        "wandb.log({\n",
        "    \"Train/Accuracy\": accuracy_score(y_train, y_pred_train),\n",
        "    \"Validation/Accuracy\": accuracy_score(y_val, y_pred_val),\n",
        "    \"Train/Presicion\": precision_score(y_train, y_pred_train),\n",
        "    \"Validation/Presicion\": precision_score(y_val, y_pred_val),\n",
        "    \"Train/Recall\": recall_score(y_train, y_pred_train),\n",
        "    \"Validation/Recall\": recall_score(y_val, y_pred_val),\n",
        "    \"Train/F1-Score\": f1_score(y_train, y_pred_train),\n",
        "    \"Validation/F1-Score\": f1_score(y_val, y_pred_val),\n",
        "})"
      ]
    },
    {
      "cell_type": "code",
      "execution_count": null,
      "metadata": {
        "id": "VLqjya4qpsnK"
      },
      "outputs": [],
      "source": []
    },
    {
      "cell_type": "code",
      "execution_count": null,
      "metadata": {
        "colab": {
          "base_uri": "https://localhost:8080/"
        },
        "id": "udd2yQXfpsnK",
        "outputId": "8a60d50e-a6ad-4f13-bb61-f5fbb2013357"
      },
      "outputs": [
        {
          "output_type": "stream",
          "name": "stderr",
          "text": [
            "/usr/local/lib/python3.10/dist-packages/sklearn/base.py:439: UserWarning: X does not have valid feature names, but RandomForestClassifier was fitted with feature names\n",
            "  warnings.warn(\n",
            "\u001b[34m\u001b[1mwandb\u001b[0m: \u001b[33mWARNING\u001b[0m wandb.plots.* functions are deprecated and will be removed in a future release. Please use wandb.plot.* instead.\n"
          ]
        }
      ],
      "source": [
        "label_names = [\"Not-Survived\", \"Survived\"]\n",
        "\n",
        "wandb.sklearn.plot_class_proportions(y_train, y_val, label_names)\n",
        "wandb.sklearn.plot_summary_metrics(model, X_train, y_train, X_val, y_val)\n",
        "wandb.sklearn.plot_roc(y_val, y_probas_val, labels=label_names)\n",
        "wandb.sklearn.plot_precision_recall(y_val, y_probas_val, labels=label_names)\n",
        "wandb.sklearn.plot_confusion_matrix(y_val, y_pred_val, labels=label_names)"
      ]
    },
    {
      "cell_type": "code",
      "execution_count": null,
      "metadata": {
        "colab": {
          "base_uri": "https://localhost:8080/",
          "height": 353
        },
        "id": "kRnTXE_BpsnK",
        "outputId": "fb08bb61-21db-4b45-aa89-77918c238102"
      },
      "outputs": [
        {
          "output_type": "display_data",
          "data": {
            "text/plain": [
              "<IPython.core.display.HTML object>"
            ],
            "text/html": [
              "Waiting for W&B process to finish... <strong style=\"color:green\">(success).</strong>"
            ]
          },
          "metadata": {}
        },
        {
          "output_type": "display_data",
          "data": {
            "text/plain": [
              "<IPython.core.display.HTML object>"
            ],
            "text/html": [
              "<style>\n",
              "    table.wandb td:nth-child(1) { padding: 0 10px; text-align: left ; width: auto;} td:nth-child(2) {text-align: left ; width: 100%}\n",
              "    .wandb-row { display: flex; flex-direction: row; flex-wrap: wrap; justify-content: flex-start; width: 100% }\n",
              "    .wandb-col { display: flex; flex-direction: column; flex-basis: 100%; flex: 1; padding: 10px; }\n",
              "    </style>\n",
              "<div class=\"wandb-row\"><div class=\"wandb-col\"><h3>Run history:</h3><br/><table class=\"wandb\"><tr><td>Train/Accuracy</td><td>▁</td></tr><tr><td>Train/F1-Score</td><td>▁</td></tr><tr><td>Train/Presicion</td><td>▁</td></tr><tr><td>Train/Recall</td><td>▁</td></tr><tr><td>Validation/Accuracy</td><td>▁</td></tr><tr><td>Validation/F1-Score</td><td>▁</td></tr><tr><td>Validation/Presicion</td><td>▁</td></tr><tr><td>Validation/Recall</td><td>▁</td></tr></table><br/></div><div class=\"wandb-col\"><h3>Run summary:</h3><br/><table class=\"wandb\"><tr><td>Train/Accuracy</td><td>0.8118</td></tr><tr><td>Train/F1-Score</td><td>0.73307</td></tr><tr><td>Train/Presicion</td><td>0.82143</td></tr><tr><td>Train/Recall</td><td>0.66187</td></tr><tr><td>Validation/Accuracy</td><td>0.82123</td></tr><tr><td>Validation/F1-Score</td><td>0.72881</td></tr><tr><td>Validation/Presicion</td><td>0.7963</td></tr><tr><td>Validation/Recall</td><td>0.67188</td></tr></table><br/></div></div>"
            ]
          },
          "metadata": {}
        },
        {
          "output_type": "display_data",
          "data": {
            "text/plain": [
              "<IPython.core.display.HTML object>"
            ],
            "text/html": [
              " View run <strong style=\"color:#cdcd00\">baseline_experinemt-2</strong> at: <a href='https://wandb.ai/camaganu/mlops-zoomcamp-wandb/runs/v6a9czdd' target=\"_blank\">https://wandb.ai/camaganu/mlops-zoomcamp-wandb/runs/v6a9czdd</a><br/>Synced 5 W&B file(s), 5 media file(s), 5 artifact file(s) and 0 other file(s)"
            ]
          },
          "metadata": {}
        },
        {
          "output_type": "display_data",
          "data": {
            "text/plain": [
              "<IPython.core.display.HTML object>"
            ],
            "text/html": [
              "Find logs at: <code>./wandb/run-20230604_220247-v6a9czdd/logs</code>"
            ]
          },
          "metadata": {}
        }
      ],
      "source": [
        "# Save your model\n",
        "with open(\"random_forest_classifier.pkl\", \"wb\") as f:\n",
        "    pickle.dump(model, f)\n",
        "\n",
        "# Log your model as a versioned file to Weights & Biases Artifact\n",
        "artifact = wandb.Artifact(f\"titanic-random-forest-model\", type=\"model\")\n",
        "artifact.add_file(\"random_forest_classifier.pkl\")\n",
        "wandb.log_artifact(artifact)\n",
        "\n",
        "\n",
        "# End the WandB Run\n",
        "wandb.finish()"
      ]
    },
    {
      "cell_type": "markdown",
      "source": [
        "# Hyperparametr Optimization"
      ],
      "metadata": {
        "id": "pVpzj7pORZnp"
      }
    },
    {
      "cell_type": "code",
      "source": [
        "def run_train():\n",
        "  wandb.init()\n",
        "  config = wandb.config\n",
        "  artifact = wandb.use_artifact('camaganu/mlops_zoomcamp_wandb/Titanic:v1', type='dataset')\n",
        "  artifact_dir = artifact.download()\n",
        "  train_val_df = pd.read_csv(os.path.join(artifact_dir, \"train.csv\"))\n",
        "  features = ['Pclass','Sex','SibSp','Parch']\n",
        "  X_train = pd.get_dummies(train_val_df[features][train_val_df[\"split\"] == \"train\"])\n",
        "  X_val = pd.get_dummies(train_val_df[features][train_val_df[\"split\"] == \"val\"])\n",
        "  y_train = train_val_df[\"Survived\"][train_val_df[\"split\"] == \"train\"]\n",
        "  y_val = train_val_df[\"Survived\"][train_val_df[\"split\"] == \"val\"]\n",
        "  model = RandomForestClassifier(\n",
        "       # n_estimators=config.n_estimators,\n",
        "        max_depth=config.max_depth,\n",
        "        min_samples_split=config.min_samples_split,\n",
        "        min_samples_leaf=config.min_samples_leaf,\n",
        "        bootstrap=config.bootstrap,\n",
        "        warm_start=config.warm_start,\n",
        "        class_weight=config.class_weight,\n",
        "    )\n",
        "  model.fit(X_train, y_train)\n",
        "\n",
        "  # Make Predictions\n",
        "  y_pred_train = model.predict(X_train)\n",
        "  y_pred_val = model.predict(X_val)\n",
        "  y_probas_val = model.predict_proba(X_val)\n",
        "\n",
        "  # Log Metrics to Weights & Biases\n",
        "  wandb.log({\n",
        "      \"Train/Accuracy\": accuracy_score(y_train, y_pred_train),\n",
        "      \"Validation/Accuracy\": accuracy_score(y_val, y_pred_val),\n",
        "      \"Train/Presicion\": precision_score(y_train, y_pred_train),\n",
        "      \"Validation/Presicion\": precision_score(y_val, y_pred_val),\n",
        "      \"Train/Recall\": recall_score(y_train, y_pred_train),\n",
        "      \"Validation/Recall\": recall_score(y_val, y_pred_val),\n",
        "      \"Train/F1-Score\": f1_score(y_train, y_pred_train),\n",
        "      \"Validation/F1-Score\": f1_score(y_val, y_pred_val),\n",
        "  })\n",
        "\n",
        "  # Plot plots to Weights & Biases\n",
        "  label_names = [\"Not-Survived\", \"Survived\"]\n",
        "  wandb.sklearn.plot_class_proportions(y_train, y_val, label_names)\n",
        "  wandb.sklearn.plot_summary_metrics(model, X_train, y_train, X_val, y_val)\n",
        "  wandb.sklearn.plot_roc(y_val, y_probas_val, labels=label_names)\n",
        "  wandb.sklearn.plot_precision_recall(y_val, y_probas_val, labels=label_names)\n",
        "  wandb.sklearn.plot_confusion_matrix(y_val, y_pred_val, labels=label_names)\n",
        "\n",
        "  # Save your model\n",
        "  with open(\"random_forest_classifier.pkl\", \"wb\") as f:\n",
        "      pickle.dump(model, f)\n",
        "\n",
        "  # Log your model as a versioned file to Weights & Biases Artifact\n",
        "  artifact = wandb.Artifact(\"titanic-random-forest-model\", type=\"model\")\n",
        "  artifact.add_file(\"random_forest_classifier.pkl\")\n",
        "  wandb.log_artifact(artifact)\n",
        "\n",
        "\n",
        "SWEEP_CONFIG ={\n",
        "    'method' :'bayes',\n",
        "    'metric' : {'name':\"Validation/Accuracy\" , 'goal':'maximize'},\n",
        "    'parameters':\n",
        "      {\n",
        "      'max_depth':{'max':20,'min':1,'distribution':'int_uniform'},\n",
        "      'n_estimators':{'distribution':'int_uniform','min':10,'max':100},\n",
        "      'min_samples_split':{'distribution':'int_uniform','min':2,'max':10},\n",
        "      'min_samples_leaf':{'distribution':'int_uniform','min':1,'max':4},\n",
        "      \"bootstrap\": {\"values\": [True, False]},\n",
        "      \"warm_start\": {\"values\": [True, False]},\n",
        "      \"class_weight\": {\"values\": [\"balanced\", \"balanced_subsample\"]}\n",
        "      }\n",
        "}\n",
        "\n",
        "sweep_id = wandb.sweep(SWEEP_CONFIG,project = 'mlops_zoomcamp_wandb')\n",
        "wandb.agent(sweep_id,run_train,count=4)\n"
      ],
      "metadata": {
        "colab": {
          "base_uri": "https://localhost:8080/",
          "height": 1000
        },
        "id": "3uPXgQERRZu_",
        "outputId": "0b7869bb-ab7f-4b6a-fe58-32c3f8a59bc2"
      },
      "execution_count": null,
      "outputs": [
        {
          "output_type": "stream",
          "name": "stdout",
          "text": [
            "Create sweep with ID: pauex9kb\n",
            "Sweep URL: https://wandb.ai/camaganu/mlops_zoomcamp_wandb/sweeps/pauex9kb\n"
          ]
        },
        {
          "output_type": "stream",
          "name": "stderr",
          "text": [
            "\u001b[34m\u001b[1mwandb\u001b[0m: Agent Starting Run: m2k3g30l with config:\n",
            "\u001b[34m\u001b[1mwandb\u001b[0m: \tbootstrap: True\n",
            "\u001b[34m\u001b[1mwandb\u001b[0m: \tclass_weight: balanced\n",
            "\u001b[34m\u001b[1mwandb\u001b[0m: \tmax_depth: 13\n",
            "\u001b[34m\u001b[1mwandb\u001b[0m: \tmin_samples_leaf: 3\n",
            "\u001b[34m\u001b[1mwandb\u001b[0m: \tmin_samples_split: 3\n",
            "\u001b[34m\u001b[1mwandb\u001b[0m: \tn_estimators: 43\n",
            "\u001b[34m\u001b[1mwandb\u001b[0m: \twarm_start: True\n"
          ]
        },
        {
          "output_type": "display_data",
          "data": {
            "text/plain": [
              "<IPython.core.display.HTML object>"
            ],
            "text/html": [
              "Tracking run with wandb version 0.15.3"
            ]
          },
          "metadata": {}
        },
        {
          "output_type": "display_data",
          "data": {
            "text/plain": [
              "<IPython.core.display.HTML object>"
            ],
            "text/html": [
              "Run data is saved locally in <code>/content/wandb/run-20230604_220416-m2k3g30l</code>"
            ]
          },
          "metadata": {}
        },
        {
          "output_type": "display_data",
          "data": {
            "text/plain": [
              "<IPython.core.display.HTML object>"
            ],
            "text/html": [
              "Syncing run <strong><a href='https://wandb.ai/camaganu/mlops_zoomcamp_wandb/runs/m2k3g30l' target=\"_blank\">rural-sweep-1</a></strong> to <a href='https://wandb.ai/camaganu/mlops_zoomcamp_wandb' target=\"_blank\">Weights & Biases</a> (<a href='https://wandb.me/run' target=\"_blank\">docs</a>)<br/>Sweep page: <a href='https://wandb.ai/camaganu/mlops_zoomcamp_wandb/sweeps/pauex9kb' target=\"_blank\">https://wandb.ai/camaganu/mlops_zoomcamp_wandb/sweeps/pauex9kb</a>"
            ]
          },
          "metadata": {}
        },
        {
          "output_type": "display_data",
          "data": {
            "text/plain": [
              "<IPython.core.display.HTML object>"
            ],
            "text/html": [
              " View project at <a href='https://wandb.ai/camaganu/mlops_zoomcamp_wandb' target=\"_blank\">https://wandb.ai/camaganu/mlops_zoomcamp_wandb</a>"
            ]
          },
          "metadata": {}
        },
        {
          "output_type": "display_data",
          "data": {
            "text/plain": [
              "<IPython.core.display.HTML object>"
            ],
            "text/html": [
              " View sweep at <a href='https://wandb.ai/camaganu/mlops_zoomcamp_wandb/sweeps/pauex9kb' target=\"_blank\">https://wandb.ai/camaganu/mlops_zoomcamp_wandb/sweeps/pauex9kb</a>"
            ]
          },
          "metadata": {}
        },
        {
          "output_type": "display_data",
          "data": {
            "text/plain": [
              "<IPython.core.display.HTML object>"
            ],
            "text/html": [
              " View run at <a href='https://wandb.ai/camaganu/mlops_zoomcamp_wandb/runs/m2k3g30l' target=\"_blank\">https://wandb.ai/camaganu/mlops_zoomcamp_wandb/runs/m2k3g30l</a>"
            ]
          },
          "metadata": {}
        },
        {
          "output_type": "stream",
          "name": "stderr",
          "text": [
            "\u001b[34m\u001b[1mwandb\u001b[0m:   2 of 2 files downloaded.  \n",
            "/usr/local/lib/python3.10/dist-packages/sklearn/ensemble/_forest.py:777: UserWarning: class_weight presets \"balanced\" or \"balanced_subsample\" are not recommended for warm_start if the fitted data differs from the full dataset. In order to use \"balanced\" weights, use compute_class_weight (\"balanced\", classes, y). In place of y you can use a large enough sample of the full training set target to properly estimate the class frequency distributions. Pass the resulting weights as the class_weight parameter.\n",
            "  warn(\n",
            "/usr/local/lib/python3.10/dist-packages/sklearn/base.py:439: UserWarning: X does not have valid feature names, but RandomForestClassifier was fitted with feature names\n",
            "  warnings.warn(\n"
          ]
        },
        {
          "output_type": "display_data",
          "data": {
            "text/plain": [
              "<IPython.core.display.HTML object>"
            ],
            "text/html": [
              "Waiting for W&B process to finish... <strong style=\"color:green\">(success).</strong>"
            ]
          },
          "metadata": {}
        },
        {
          "output_type": "display_data",
          "data": {
            "text/plain": [
              "<IPython.core.display.HTML object>"
            ],
            "text/html": [
              "<style>\n",
              "    table.wandb td:nth-child(1) { padding: 0 10px; text-align: left ; width: auto;} td:nth-child(2) {text-align: left ; width: 100%}\n",
              "    .wandb-row { display: flex; flex-direction: row; flex-wrap: wrap; justify-content: flex-start; width: 100% }\n",
              "    .wandb-col { display: flex; flex-direction: column; flex-basis: 100%; flex: 1; padding: 10px; }\n",
              "    </style>\n",
              "<div class=\"wandb-row\"><div class=\"wandb-col\"><h3>Run history:</h3><br/><table class=\"wandb\"><tr><td>Train/Accuracy</td><td>▁</td></tr><tr><td>Train/F1-Score</td><td>▁</td></tr><tr><td>Train/Presicion</td><td>▁</td></tr><tr><td>Train/Recall</td><td>▁</td></tr><tr><td>Validation/Accuracy</td><td>▁</td></tr><tr><td>Validation/F1-Score</td><td>▁</td></tr><tr><td>Validation/Presicion</td><td>▁</td></tr><tr><td>Validation/Recall</td><td>▁</td></tr></table><br/></div><div class=\"wandb-col\"><h3>Run summary:</h3><br/><table class=\"wandb\"><tr><td>Train/Accuracy</td><td>0.80337</td></tr><tr><td>Train/F1-Score</td><td>0.74453</td></tr><tr><td>Train/Presicion</td><td>0.75556</td></tr><tr><td>Train/Recall</td><td>0.73381</td></tr><tr><td>Validation/Accuracy</td><td>0.82682</td></tr><tr><td>Validation/F1-Score</td><td>0.75591</td></tr><tr><td>Validation/Presicion</td><td>0.7619</td></tr><tr><td>Validation/Recall</td><td>0.75</td></tr></table><br/></div></div>"
            ]
          },
          "metadata": {}
        },
        {
          "output_type": "display_data",
          "data": {
            "text/plain": [
              "<IPython.core.display.HTML object>"
            ],
            "text/html": [
              " View run <strong style=\"color:#cdcd00\">rural-sweep-1</strong> at: <a href='https://wandb.ai/camaganu/mlops_zoomcamp_wandb/runs/m2k3g30l' target=\"_blank\">https://wandb.ai/camaganu/mlops_zoomcamp_wandb/runs/m2k3g30l</a><br/>Synced 5 W&B file(s), 5 media file(s), 6 artifact file(s) and 0 other file(s)"
            ]
          },
          "metadata": {}
        },
        {
          "output_type": "display_data",
          "data": {
            "text/plain": [
              "<IPython.core.display.HTML object>"
            ],
            "text/html": [
              "Find logs at: <code>./wandb/run-20230604_220416-m2k3g30l/logs</code>"
            ]
          },
          "metadata": {}
        },
        {
          "output_type": "stream",
          "name": "stderr",
          "text": [
            "\u001b[34m\u001b[1mwandb\u001b[0m: Agent Starting Run: 9hko9od3 with config:\n",
            "\u001b[34m\u001b[1mwandb\u001b[0m: \tbootstrap: False\n",
            "\u001b[34m\u001b[1mwandb\u001b[0m: \tclass_weight: balanced\n",
            "\u001b[34m\u001b[1mwandb\u001b[0m: \tmax_depth: 7\n",
            "\u001b[34m\u001b[1mwandb\u001b[0m: \tmin_samples_leaf: 3\n",
            "\u001b[34m\u001b[1mwandb\u001b[0m: \tmin_samples_split: 7\n",
            "\u001b[34m\u001b[1mwandb\u001b[0m: \tn_estimators: 44\n",
            "\u001b[34m\u001b[1mwandb\u001b[0m: \twarm_start: True\n"
          ]
        },
        {
          "output_type": "display_data",
          "data": {
            "text/plain": [
              "<IPython.core.display.HTML object>"
            ],
            "text/html": [
              "Tracking run with wandb version 0.15.3"
            ]
          },
          "metadata": {}
        },
        {
          "output_type": "display_data",
          "data": {
            "text/plain": [
              "<IPython.core.display.HTML object>"
            ],
            "text/html": [
              "Run data is saved locally in <code>/content/wandb/run-20230604_220436-9hko9od3</code>"
            ]
          },
          "metadata": {}
        },
        {
          "output_type": "display_data",
          "data": {
            "text/plain": [
              "<IPython.core.display.HTML object>"
            ],
            "text/html": [
              "Syncing run <strong><a href='https://wandb.ai/camaganu/mlops_zoomcamp_wandb/runs/9hko9od3' target=\"_blank\">jumping-sweep-2</a></strong> to <a href='https://wandb.ai/camaganu/mlops_zoomcamp_wandb' target=\"_blank\">Weights & Biases</a> (<a href='https://wandb.me/run' target=\"_blank\">docs</a>)<br/>Sweep page: <a href='https://wandb.ai/camaganu/mlops_zoomcamp_wandb/sweeps/pauex9kb' target=\"_blank\">https://wandb.ai/camaganu/mlops_zoomcamp_wandb/sweeps/pauex9kb</a>"
            ]
          },
          "metadata": {}
        },
        {
          "output_type": "display_data",
          "data": {
            "text/plain": [
              "<IPython.core.display.HTML object>"
            ],
            "text/html": [
              " View project at <a href='https://wandb.ai/camaganu/mlops_zoomcamp_wandb' target=\"_blank\">https://wandb.ai/camaganu/mlops_zoomcamp_wandb</a>"
            ]
          },
          "metadata": {}
        },
        {
          "output_type": "display_data",
          "data": {
            "text/plain": [
              "<IPython.core.display.HTML object>"
            ],
            "text/html": [
              " View sweep at <a href='https://wandb.ai/camaganu/mlops_zoomcamp_wandb/sweeps/pauex9kb' target=\"_blank\">https://wandb.ai/camaganu/mlops_zoomcamp_wandb/sweeps/pauex9kb</a>"
            ]
          },
          "metadata": {}
        },
        {
          "output_type": "display_data",
          "data": {
            "text/plain": [
              "<IPython.core.display.HTML object>"
            ],
            "text/html": [
              " View run at <a href='https://wandb.ai/camaganu/mlops_zoomcamp_wandb/runs/9hko9od3' target=\"_blank\">https://wandb.ai/camaganu/mlops_zoomcamp_wandb/runs/9hko9od3</a>"
            ]
          },
          "metadata": {}
        },
        {
          "output_type": "stream",
          "name": "stderr",
          "text": [
            "\u001b[34m\u001b[1mwandb\u001b[0m:   2 of 2 files downloaded.  \n",
            "/usr/local/lib/python3.10/dist-packages/sklearn/ensemble/_forest.py:777: UserWarning: class_weight presets \"balanced\" or \"balanced_subsample\" are not recommended for warm_start if the fitted data differs from the full dataset. In order to use \"balanced\" weights, use compute_class_weight (\"balanced\", classes, y). In place of y you can use a large enough sample of the full training set target to properly estimate the class frequency distributions. Pass the resulting weights as the class_weight parameter.\n",
            "  warn(\n",
            "/usr/local/lib/python3.10/dist-packages/sklearn/base.py:439: UserWarning: X does not have valid feature names, but RandomForestClassifier was fitted with feature names\n",
            "  warnings.warn(\n"
          ]
        },
        {
          "output_type": "display_data",
          "data": {
            "text/plain": [
              "<IPython.core.display.HTML object>"
            ],
            "text/html": [
              "Waiting for W&B process to finish... <strong style=\"color:green\">(success).</strong>"
            ]
          },
          "metadata": {}
        },
        {
          "output_type": "display_data",
          "data": {
            "text/plain": [
              "<IPython.core.display.HTML object>"
            ],
            "text/html": [
              "<style>\n",
              "    table.wandb td:nth-child(1) { padding: 0 10px; text-align: left ; width: auto;} td:nth-child(2) {text-align: left ; width: 100%}\n",
              "    .wandb-row { display: flex; flex-direction: row; flex-wrap: wrap; justify-content: flex-start; width: 100% }\n",
              "    .wandb-col { display: flex; flex-direction: column; flex-basis: 100%; flex: 1; padding: 10px; }\n",
              "    </style>\n",
              "<div class=\"wandb-row\"><div class=\"wandb-col\"><h3>Run history:</h3><br/><table class=\"wandb\"><tr><td>Train/Accuracy</td><td>▁</td></tr><tr><td>Train/F1-Score</td><td>▁</td></tr><tr><td>Train/Presicion</td><td>▁</td></tr><tr><td>Train/Recall</td><td>▁</td></tr><tr><td>Validation/Accuracy</td><td>▁</td></tr><tr><td>Validation/F1-Score</td><td>▁</td></tr><tr><td>Validation/Presicion</td><td>▁</td></tr><tr><td>Validation/Recall</td><td>▁</td></tr></table><br/></div><div class=\"wandb-col\"><h3>Run summary:</h3><br/><table class=\"wandb\"><tr><td>Train/Accuracy</td><td>0.80337</td></tr><tr><td>Train/F1-Score</td><td>0.74638</td></tr><tr><td>Train/Presicion</td><td>0.75182</td></tr><tr><td>Train/Recall</td><td>0.74101</td></tr><tr><td>Validation/Accuracy</td><td>0.82682</td></tr><tr><td>Validation/F1-Score</td><td>0.75591</td></tr><tr><td>Validation/Presicion</td><td>0.7619</td></tr><tr><td>Validation/Recall</td><td>0.75</td></tr></table><br/></div></div>"
            ]
          },
          "metadata": {}
        },
        {
          "output_type": "display_data",
          "data": {
            "text/plain": [
              "<IPython.core.display.HTML object>"
            ],
            "text/html": [
              " View run <strong style=\"color:#cdcd00\">jumping-sweep-2</strong> at: <a href='https://wandb.ai/camaganu/mlops_zoomcamp_wandb/runs/9hko9od3' target=\"_blank\">https://wandb.ai/camaganu/mlops_zoomcamp_wandb/runs/9hko9od3</a><br/>Synced 5 W&B file(s), 5 media file(s), 6 artifact file(s) and 0 other file(s)"
            ]
          },
          "metadata": {}
        },
        {
          "output_type": "display_data",
          "data": {
            "text/plain": [
              "<IPython.core.display.HTML object>"
            ],
            "text/html": [
              "Find logs at: <code>./wandb/run-20230604_220436-9hko9od3/logs</code>"
            ]
          },
          "metadata": {}
        },
        {
          "output_type": "stream",
          "name": "stderr",
          "text": [
            "\u001b[34m\u001b[1mwandb\u001b[0m: Agent Starting Run: w82bx47x with config:\n",
            "\u001b[34m\u001b[1mwandb\u001b[0m: \tbootstrap: True\n",
            "\u001b[34m\u001b[1mwandb\u001b[0m: \tclass_weight: balanced_subsample\n",
            "\u001b[34m\u001b[1mwandb\u001b[0m: \tmax_depth: 7\n",
            "\u001b[34m\u001b[1mwandb\u001b[0m: \tmin_samples_leaf: 2\n",
            "\u001b[34m\u001b[1mwandb\u001b[0m: \tmin_samples_split: 4\n",
            "\u001b[34m\u001b[1mwandb\u001b[0m: \tn_estimators: 30\n",
            "\u001b[34m\u001b[1mwandb\u001b[0m: \twarm_start: False\n"
          ]
        },
        {
          "output_type": "display_data",
          "data": {
            "text/plain": [
              "<IPython.core.display.HTML object>"
            ],
            "text/html": [
              "Tracking run with wandb version 0.15.3"
            ]
          },
          "metadata": {}
        },
        {
          "output_type": "display_data",
          "data": {
            "text/plain": [
              "<IPython.core.display.HTML object>"
            ],
            "text/html": [
              "Run data is saved locally in <code>/content/wandb/run-20230604_220452-w82bx47x</code>"
            ]
          },
          "metadata": {}
        },
        {
          "output_type": "display_data",
          "data": {
            "text/plain": [
              "<IPython.core.display.HTML object>"
            ],
            "text/html": [
              "Syncing run <strong><a href='https://wandb.ai/camaganu/mlops_zoomcamp_wandb/runs/w82bx47x' target=\"_blank\">twilight-sweep-3</a></strong> to <a href='https://wandb.ai/camaganu/mlops_zoomcamp_wandb' target=\"_blank\">Weights & Biases</a> (<a href='https://wandb.me/run' target=\"_blank\">docs</a>)<br/>Sweep page: <a href='https://wandb.ai/camaganu/mlops_zoomcamp_wandb/sweeps/pauex9kb' target=\"_blank\">https://wandb.ai/camaganu/mlops_zoomcamp_wandb/sweeps/pauex9kb</a>"
            ]
          },
          "metadata": {}
        },
        {
          "output_type": "display_data",
          "data": {
            "text/plain": [
              "<IPython.core.display.HTML object>"
            ],
            "text/html": [
              " View project at <a href='https://wandb.ai/camaganu/mlops_zoomcamp_wandb' target=\"_blank\">https://wandb.ai/camaganu/mlops_zoomcamp_wandb</a>"
            ]
          },
          "metadata": {}
        },
        {
          "output_type": "display_data",
          "data": {
            "text/plain": [
              "<IPython.core.display.HTML object>"
            ],
            "text/html": [
              " View sweep at <a href='https://wandb.ai/camaganu/mlops_zoomcamp_wandb/sweeps/pauex9kb' target=\"_blank\">https://wandb.ai/camaganu/mlops_zoomcamp_wandb/sweeps/pauex9kb</a>"
            ]
          },
          "metadata": {}
        },
        {
          "output_type": "display_data",
          "data": {
            "text/plain": [
              "<IPython.core.display.HTML object>"
            ],
            "text/html": [
              " View run at <a href='https://wandb.ai/camaganu/mlops_zoomcamp_wandb/runs/w82bx47x' target=\"_blank\">https://wandb.ai/camaganu/mlops_zoomcamp_wandb/runs/w82bx47x</a>"
            ]
          },
          "metadata": {}
        },
        {
          "output_type": "stream",
          "name": "stderr",
          "text": [
            "\u001b[34m\u001b[1mwandb\u001b[0m:   2 of 2 files downloaded.  \n",
            "/usr/local/lib/python3.10/dist-packages/sklearn/base.py:439: UserWarning: X does not have valid feature names, but RandomForestClassifier was fitted with feature names\n",
            "  warnings.warn(\n"
          ]
        },
        {
          "output_type": "display_data",
          "data": {
            "text/plain": [
              "<IPython.core.display.HTML object>"
            ],
            "text/html": [
              "Waiting for W&B process to finish... <strong style=\"color:green\">(success).</strong>"
            ]
          },
          "metadata": {}
        },
        {
          "output_type": "display_data",
          "data": {
            "text/plain": [
              "<IPython.core.display.HTML object>"
            ],
            "text/html": [
              "<style>\n",
              "    table.wandb td:nth-child(1) { padding: 0 10px; text-align: left ; width: auto;} td:nth-child(2) {text-align: left ; width: 100%}\n",
              "    .wandb-row { display: flex; flex-direction: row; flex-wrap: wrap; justify-content: flex-start; width: 100% }\n",
              "    .wandb-col { display: flex; flex-direction: column; flex-basis: 100%; flex: 1; padding: 10px; }\n",
              "    </style>\n",
              "<div class=\"wandb-row\"><div class=\"wandb-col\"><h3>Run history:</h3><br/><table class=\"wandb\"><tr><td>Train/Accuracy</td><td>▁</td></tr><tr><td>Train/F1-Score</td><td>▁</td></tr><tr><td>Train/Presicion</td><td>▁</td></tr><tr><td>Train/Recall</td><td>▁</td></tr><tr><td>Validation/Accuracy</td><td>▁</td></tr><tr><td>Validation/F1-Score</td><td>▁</td></tr><tr><td>Validation/Presicion</td><td>▁</td></tr><tr><td>Validation/Recall</td><td>▁</td></tr></table><br/></div><div class=\"wandb-col\"><h3>Run summary:</h3><br/><table class=\"wandb\"><tr><td>Train/Accuracy</td><td>0.80337</td></tr><tr><td>Train/F1-Score</td><td>0.74453</td></tr><tr><td>Train/Presicion</td><td>0.75556</td></tr><tr><td>Train/Recall</td><td>0.73381</td></tr><tr><td>Validation/Accuracy</td><td>0.82682</td></tr><tr><td>Validation/F1-Score</td><td>0.75591</td></tr><tr><td>Validation/Presicion</td><td>0.7619</td></tr><tr><td>Validation/Recall</td><td>0.75</td></tr></table><br/></div></div>"
            ]
          },
          "metadata": {}
        },
        {
          "output_type": "display_data",
          "data": {
            "text/plain": [
              "<IPython.core.display.HTML object>"
            ],
            "text/html": [
              " View run <strong style=\"color:#cdcd00\">twilight-sweep-3</strong> at: <a href='https://wandb.ai/camaganu/mlops_zoomcamp_wandb/runs/w82bx47x' target=\"_blank\">https://wandb.ai/camaganu/mlops_zoomcamp_wandb/runs/w82bx47x</a><br/>Synced 5 W&B file(s), 5 media file(s), 6 artifact file(s) and 0 other file(s)"
            ]
          },
          "metadata": {}
        },
        {
          "output_type": "display_data",
          "data": {
            "text/plain": [
              "<IPython.core.display.HTML object>"
            ],
            "text/html": [
              "Find logs at: <code>./wandb/run-20230604_220452-w82bx47x/logs</code>"
            ]
          },
          "metadata": {}
        },
        {
          "output_type": "stream",
          "name": "stderr",
          "text": [
            "\u001b[34m\u001b[1mwandb\u001b[0m: Agent Starting Run: 1ikre6is with config:\n",
            "\u001b[34m\u001b[1mwandb\u001b[0m: \tbootstrap: True\n",
            "\u001b[34m\u001b[1mwandb\u001b[0m: \tclass_weight: balanced_subsample\n",
            "\u001b[34m\u001b[1mwandb\u001b[0m: \tmax_depth: 18\n",
            "\u001b[34m\u001b[1mwandb\u001b[0m: \tmin_samples_leaf: 1\n",
            "\u001b[34m\u001b[1mwandb\u001b[0m: \tmin_samples_split: 7\n",
            "\u001b[34m\u001b[1mwandb\u001b[0m: \tn_estimators: 16\n",
            "\u001b[34m\u001b[1mwandb\u001b[0m: \twarm_start: False\n"
          ]
        },
        {
          "output_type": "display_data",
          "data": {
            "text/plain": [
              "<IPython.core.display.HTML object>"
            ],
            "text/html": [
              "Tracking run with wandb version 0.15.3"
            ]
          },
          "metadata": {}
        },
        {
          "output_type": "display_data",
          "data": {
            "text/plain": [
              "<IPython.core.display.HTML object>"
            ],
            "text/html": [
              "Run data is saved locally in <code>/content/wandb/run-20230604_220512-1ikre6is</code>"
            ]
          },
          "metadata": {}
        },
        {
          "output_type": "display_data",
          "data": {
            "text/plain": [
              "<IPython.core.display.HTML object>"
            ],
            "text/html": [
              "Syncing run <strong><a href='https://wandb.ai/camaganu/mlops_zoomcamp_wandb/runs/1ikre6is' target=\"_blank\">lilac-sweep-4</a></strong> to <a href='https://wandb.ai/camaganu/mlops_zoomcamp_wandb' target=\"_blank\">Weights & Biases</a> (<a href='https://wandb.me/run' target=\"_blank\">docs</a>)<br/>Sweep page: <a href='https://wandb.ai/camaganu/mlops_zoomcamp_wandb/sweeps/pauex9kb' target=\"_blank\">https://wandb.ai/camaganu/mlops_zoomcamp_wandb/sweeps/pauex9kb</a>"
            ]
          },
          "metadata": {}
        },
        {
          "output_type": "display_data",
          "data": {
            "text/plain": [
              "<IPython.core.display.HTML object>"
            ],
            "text/html": [
              " View project at <a href='https://wandb.ai/camaganu/mlops_zoomcamp_wandb' target=\"_blank\">https://wandb.ai/camaganu/mlops_zoomcamp_wandb</a>"
            ]
          },
          "metadata": {}
        },
        {
          "output_type": "display_data",
          "data": {
            "text/plain": [
              "<IPython.core.display.HTML object>"
            ],
            "text/html": [
              " View sweep at <a href='https://wandb.ai/camaganu/mlops_zoomcamp_wandb/sweeps/pauex9kb' target=\"_blank\">https://wandb.ai/camaganu/mlops_zoomcamp_wandb/sweeps/pauex9kb</a>"
            ]
          },
          "metadata": {}
        },
        {
          "output_type": "display_data",
          "data": {
            "text/plain": [
              "<IPython.core.display.HTML object>"
            ],
            "text/html": [
              " View run at <a href='https://wandb.ai/camaganu/mlops_zoomcamp_wandb/runs/1ikre6is' target=\"_blank\">https://wandb.ai/camaganu/mlops_zoomcamp_wandb/runs/1ikre6is</a>"
            ]
          },
          "metadata": {}
        },
        {
          "output_type": "stream",
          "name": "stderr",
          "text": [
            "\u001b[34m\u001b[1mwandb\u001b[0m:   2 of 2 files downloaded.  \n",
            "/usr/local/lib/python3.10/dist-packages/sklearn/base.py:439: UserWarning: X does not have valid feature names, but RandomForestClassifier was fitted with feature names\n",
            "  warnings.warn(\n"
          ]
        },
        {
          "output_type": "display_data",
          "data": {
            "text/plain": [
              "<IPython.core.display.HTML object>"
            ],
            "text/html": [
              "Waiting for W&B process to finish... <strong style=\"color:green\">(success).</strong>"
            ]
          },
          "metadata": {}
        },
        {
          "output_type": "display_data",
          "data": {
            "text/plain": [
              "<IPython.core.display.HTML object>"
            ],
            "text/html": [
              "<style>\n",
              "    table.wandb td:nth-child(1) { padding: 0 10px; text-align: left ; width: auto;} td:nth-child(2) {text-align: left ; width: 100%}\n",
              "    .wandb-row { display: flex; flex-direction: row; flex-wrap: wrap; justify-content: flex-start; width: 100% }\n",
              "    .wandb-col { display: flex; flex-direction: column; flex-basis: 100%; flex: 1; padding: 10px; }\n",
              "    </style>\n",
              "<div class=\"wandb-row\"><div class=\"wandb-col\"><h3>Run history:</h3><br/><table class=\"wandb\"><tr><td>Train/Accuracy</td><td>▁</td></tr><tr><td>Train/F1-Score</td><td>▁</td></tr><tr><td>Train/Presicion</td><td>▁</td></tr><tr><td>Train/Recall</td><td>▁</td></tr><tr><td>Validation/Accuracy</td><td>▁</td></tr><tr><td>Validation/F1-Score</td><td>▁</td></tr><tr><td>Validation/Presicion</td><td>▁</td></tr><tr><td>Validation/Recall</td><td>▁</td></tr></table><br/></div><div class=\"wandb-col\"><h3>Run summary:</h3><br/><table class=\"wandb\"><tr><td>Train/Accuracy</td><td>0.80758</td></tr><tr><td>Train/F1-Score</td><td>0.74954</td></tr><tr><td>Train/Presicion</td><td>0.76208</td></tr><tr><td>Train/Recall</td><td>0.73741</td></tr><tr><td>Validation/Accuracy</td><td>0.81564</td></tr><tr><td>Validation/F1-Score</td><td>0.736</td></tr><tr><td>Validation/Presicion</td><td>0.7541</td></tr><tr><td>Validation/Recall</td><td>0.71875</td></tr></table><br/></div></div>"
            ]
          },
          "metadata": {}
        },
        {
          "output_type": "display_data",
          "data": {
            "text/plain": [
              "<IPython.core.display.HTML object>"
            ],
            "text/html": [
              " View run <strong style=\"color:#cdcd00\">lilac-sweep-4</strong> at: <a href='https://wandb.ai/camaganu/mlops_zoomcamp_wandb/runs/1ikre6is' target=\"_blank\">https://wandb.ai/camaganu/mlops_zoomcamp_wandb/runs/1ikre6is</a><br/>Synced 5 W&B file(s), 5 media file(s), 6 artifact file(s) and 0 other file(s)"
            ]
          },
          "metadata": {}
        },
        {
          "output_type": "display_data",
          "data": {
            "text/plain": [
              "<IPython.core.display.HTML object>"
            ],
            "text/html": [
              "Find logs at: <code>./wandb/run-20230604_220512-1ikre6is/logs</code>"
            ]
          },
          "metadata": {}
        }
      ]
    },
    {
      "cell_type": "code",
      "source": [],
      "metadata": {
        "id": "9H-d279vRZyQ"
      },
      "execution_count": null,
      "outputs": []
    },
    {
      "cell_type": "code",
      "source": [],
      "metadata": {
        "id": "mr5SsJbrRZ1H"
      },
      "execution_count": null,
      "outputs": []
    },
    {
      "cell_type": "code",
      "source": [],
      "metadata": {
        "id": "m54919ieRZ4A"
      },
      "execution_count": null,
      "outputs": []
    },
    {
      "cell_type": "code",
      "source": [],
      "metadata": {
        "id": "x9Q_P5RaRZ6j"
      },
      "execution_count": null,
      "outputs": []
    },
    {
      "cell_type": "code",
      "source": [],
      "metadata": {
        "id": "7Diss02oRZ9V"
      },
      "execution_count": null,
      "outputs": []
    }
  ],
  "metadata": {
    "kernelspec": {
      "display_name": "Python 3",
      "language": "python",
      "name": "python3"
    },
    "language_info": {
      "codemirror_mode": {
        "name": "ipython",
        "version": 3
      },
      "file_extension": ".py",
      "mimetype": "text/x-python",
      "name": "python",
      "nbconvert_exporter": "python",
      "pygments_lexer": "ipython3",
      "version": "3.10.4"
    },
    "orig_nbformat": 4,
    "colab": {
      "provenance": []
    },
    "widgets": {
      "application/vnd.jupyter.widget-state+json": {
        "2c9567142385495d9ce6013e5375dd77": {
          "model_module": "@jupyter-widgets/controls",
          "model_name": "VBoxModel",
          "model_module_version": "1.5.0",
          "state": {
            "_dom_classes": [],
            "_model_module": "@jupyter-widgets/controls",
            "_model_module_version": "1.5.0",
            "_model_name": "VBoxModel",
            "_view_count": null,
            "_view_module": "@jupyter-widgets/controls",
            "_view_module_version": "1.5.0",
            "_view_name": "VBoxView",
            "box_style": "",
            "children": [
              "IPY_MODEL_b74791a9ff1c4b3aaf0cfdca8daad423",
              "IPY_MODEL_bc9b6da999034568bfa7f4e101bdc865"
            ],
            "layout": "IPY_MODEL_babfe588a051446982fbc22c08bcb6b2"
          }
        },
        "b74791a9ff1c4b3aaf0cfdca8daad423": {
          "model_module": "@jupyter-widgets/controls",
          "model_name": "LabelModel",
          "model_module_version": "1.5.0",
          "state": {
            "_dom_classes": [],
            "_model_module": "@jupyter-widgets/controls",
            "_model_module_version": "1.5.0",
            "_model_name": "LabelModel",
            "_view_count": null,
            "_view_module": "@jupyter-widgets/controls",
            "_view_module_version": "1.5.0",
            "_view_name": "LabelView",
            "description": "",
            "description_tooltip": null,
            "layout": "IPY_MODEL_af595ff023d546cba465f93b5e71172a",
            "placeholder": "​",
            "style": "IPY_MODEL_57d8e16235264dfa9d0da6d67d63d9e5",
            "value": "0.092 MB of 0.099 MB uploaded (0.000 MB deduped)\r"
          }
        },
        "bc9b6da999034568bfa7f4e101bdc865": {
          "model_module": "@jupyter-widgets/controls",
          "model_name": "FloatProgressModel",
          "model_module_version": "1.5.0",
          "state": {
            "_dom_classes": [],
            "_model_module": "@jupyter-widgets/controls",
            "_model_module_version": "1.5.0",
            "_model_name": "FloatProgressModel",
            "_view_count": null,
            "_view_module": "@jupyter-widgets/controls",
            "_view_module_version": "1.5.0",
            "_view_name": "ProgressView",
            "bar_style": "",
            "description": "",
            "description_tooltip": null,
            "layout": "IPY_MODEL_4dc3dcb49a514990867de4301651f963",
            "max": 1,
            "min": 0,
            "orientation": "horizontal",
            "style": "IPY_MODEL_e726b97a15ab4e739d26a05765727ff1",
            "value": 0.9263874245183552
          }
        },
        "babfe588a051446982fbc22c08bcb6b2": {
          "model_module": "@jupyter-widgets/base",
          "model_name": "LayoutModel",
          "model_module_version": "1.2.0",
          "state": {
            "_model_module": "@jupyter-widgets/base",
            "_model_module_version": "1.2.0",
            "_model_name": "LayoutModel",
            "_view_count": null,
            "_view_module": "@jupyter-widgets/base",
            "_view_module_version": "1.2.0",
            "_view_name": "LayoutView",
            "align_content": null,
            "align_items": null,
            "align_self": null,
            "border": null,
            "bottom": null,
            "display": null,
            "flex": null,
            "flex_flow": null,
            "grid_area": null,
            "grid_auto_columns": null,
            "grid_auto_flow": null,
            "grid_auto_rows": null,
            "grid_column": null,
            "grid_gap": null,
            "grid_row": null,
            "grid_template_areas": null,
            "grid_template_columns": null,
            "grid_template_rows": null,
            "height": null,
            "justify_content": null,
            "justify_items": null,
            "left": null,
            "margin": null,
            "max_height": null,
            "max_width": null,
            "min_height": null,
            "min_width": null,
            "object_fit": null,
            "object_position": null,
            "order": null,
            "overflow": null,
            "overflow_x": null,
            "overflow_y": null,
            "padding": null,
            "right": null,
            "top": null,
            "visibility": null,
            "width": null
          }
        },
        "af595ff023d546cba465f93b5e71172a": {
          "model_module": "@jupyter-widgets/base",
          "model_name": "LayoutModel",
          "model_module_version": "1.2.0",
          "state": {
            "_model_module": "@jupyter-widgets/base",
            "_model_module_version": "1.2.0",
            "_model_name": "LayoutModel",
            "_view_count": null,
            "_view_module": "@jupyter-widgets/base",
            "_view_module_version": "1.2.0",
            "_view_name": "LayoutView",
            "align_content": null,
            "align_items": null,
            "align_self": null,
            "border": null,
            "bottom": null,
            "display": null,
            "flex": null,
            "flex_flow": null,
            "grid_area": null,
            "grid_auto_columns": null,
            "grid_auto_flow": null,
            "grid_auto_rows": null,
            "grid_column": null,
            "grid_gap": null,
            "grid_row": null,
            "grid_template_areas": null,
            "grid_template_columns": null,
            "grid_template_rows": null,
            "height": null,
            "justify_content": null,
            "justify_items": null,
            "left": null,
            "margin": null,
            "max_height": null,
            "max_width": null,
            "min_height": null,
            "min_width": null,
            "object_fit": null,
            "object_position": null,
            "order": null,
            "overflow": null,
            "overflow_x": null,
            "overflow_y": null,
            "padding": null,
            "right": null,
            "top": null,
            "visibility": null,
            "width": null
          }
        },
        "57d8e16235264dfa9d0da6d67d63d9e5": {
          "model_module": "@jupyter-widgets/controls",
          "model_name": "DescriptionStyleModel",
          "model_module_version": "1.5.0",
          "state": {
            "_model_module": "@jupyter-widgets/controls",
            "_model_module_version": "1.5.0",
            "_model_name": "DescriptionStyleModel",
            "_view_count": null,
            "_view_module": "@jupyter-widgets/base",
            "_view_module_version": "1.2.0",
            "_view_name": "StyleView",
            "description_width": ""
          }
        },
        "4dc3dcb49a514990867de4301651f963": {
          "model_module": "@jupyter-widgets/base",
          "model_name": "LayoutModel",
          "model_module_version": "1.2.0",
          "state": {
            "_model_module": "@jupyter-widgets/base",
            "_model_module_version": "1.2.0",
            "_model_name": "LayoutModel",
            "_view_count": null,
            "_view_module": "@jupyter-widgets/base",
            "_view_module_version": "1.2.0",
            "_view_name": "LayoutView",
            "align_content": null,
            "align_items": null,
            "align_self": null,
            "border": null,
            "bottom": null,
            "display": null,
            "flex": null,
            "flex_flow": null,
            "grid_area": null,
            "grid_auto_columns": null,
            "grid_auto_flow": null,
            "grid_auto_rows": null,
            "grid_column": null,
            "grid_gap": null,
            "grid_row": null,
            "grid_template_areas": null,
            "grid_template_columns": null,
            "grid_template_rows": null,
            "height": null,
            "justify_content": null,
            "justify_items": null,
            "left": null,
            "margin": null,
            "max_height": null,
            "max_width": null,
            "min_height": null,
            "min_width": null,
            "object_fit": null,
            "object_position": null,
            "order": null,
            "overflow": null,
            "overflow_x": null,
            "overflow_y": null,
            "padding": null,
            "right": null,
            "top": null,
            "visibility": null,
            "width": null
          }
        },
        "e726b97a15ab4e739d26a05765727ff1": {
          "model_module": "@jupyter-widgets/controls",
          "model_name": "ProgressStyleModel",
          "model_module_version": "1.5.0",
          "state": {
            "_model_module": "@jupyter-widgets/controls",
            "_model_module_version": "1.5.0",
            "_model_name": "ProgressStyleModel",
            "_view_count": null,
            "_view_module": "@jupyter-widgets/base",
            "_view_module_version": "1.2.0",
            "_view_name": "StyleView",
            "bar_color": null,
            "description_width": ""
          }
        },
        "dbd026653fc5458ebc2e175cd45dbcf1": {
          "model_module": "@jupyter-widgets/controls",
          "model_name": "VBoxModel",
          "model_module_version": "1.5.0",
          "state": {
            "_dom_classes": [],
            "_model_module": "@jupyter-widgets/controls",
            "_model_module_version": "1.5.0",
            "_model_name": "VBoxModel",
            "_view_count": null,
            "_view_module": "@jupyter-widgets/controls",
            "_view_module_version": "1.5.0",
            "_view_name": "VBoxView",
            "box_style": "",
            "children": [
              "IPY_MODEL_f7fa74d0b6134e778352feacb858c9b3",
              "IPY_MODEL_fdb592df839f44039e84693cd6bc2e9c"
            ],
            "layout": "IPY_MODEL_5435e304a9e941ae99fbb6a87ca940ba"
          }
        },
        "f7fa74d0b6134e778352feacb858c9b3": {
          "model_module": "@jupyter-widgets/controls",
          "model_name": "LabelModel",
          "model_module_version": "1.5.0",
          "state": {
            "_dom_classes": [],
            "_model_module": "@jupyter-widgets/controls",
            "_model_module_version": "1.5.0",
            "_model_name": "LabelModel",
            "_view_count": null,
            "_view_module": "@jupyter-widgets/controls",
            "_view_module_version": "1.5.0",
            "_view_name": "LabelView",
            "description": "",
            "description_tooltip": null,
            "layout": "IPY_MODEL_596a16b328f74e2f91895f7dc133b646",
            "placeholder": "​",
            "style": "IPY_MODEL_4f71a45335a246199316af2ccd337aa5",
            "value": "0.001 MB of 0.008 MB uploaded (0.000 MB deduped)\r"
          }
        },
        "fdb592df839f44039e84693cd6bc2e9c": {
          "model_module": "@jupyter-widgets/controls",
          "model_name": "FloatProgressModel",
          "model_module_version": "1.5.0",
          "state": {
            "_dom_classes": [],
            "_model_module": "@jupyter-widgets/controls",
            "_model_module_version": "1.5.0",
            "_model_name": "FloatProgressModel",
            "_view_count": null,
            "_view_module": "@jupyter-widgets/controls",
            "_view_module_version": "1.5.0",
            "_view_name": "ProgressView",
            "bar_style": "",
            "description": "",
            "description_tooltip": null,
            "layout": "IPY_MODEL_625423cbe2e448e4956f5d2dd8e7ac1a",
            "max": 1,
            "min": 0,
            "orientation": "horizontal",
            "style": "IPY_MODEL_48296dc5c652461f8dacf3f6cd0d3f08",
            "value": 0.11591088996946737
          }
        },
        "5435e304a9e941ae99fbb6a87ca940ba": {
          "model_module": "@jupyter-widgets/base",
          "model_name": "LayoutModel",
          "model_module_version": "1.2.0",
          "state": {
            "_model_module": "@jupyter-widgets/base",
            "_model_module_version": "1.2.0",
            "_model_name": "LayoutModel",
            "_view_count": null,
            "_view_module": "@jupyter-widgets/base",
            "_view_module_version": "1.2.0",
            "_view_name": "LayoutView",
            "align_content": null,
            "align_items": null,
            "align_self": null,
            "border": null,
            "bottom": null,
            "display": null,
            "flex": null,
            "flex_flow": null,
            "grid_area": null,
            "grid_auto_columns": null,
            "grid_auto_flow": null,
            "grid_auto_rows": null,
            "grid_column": null,
            "grid_gap": null,
            "grid_row": null,
            "grid_template_areas": null,
            "grid_template_columns": null,
            "grid_template_rows": null,
            "height": null,
            "justify_content": null,
            "justify_items": null,
            "left": null,
            "margin": null,
            "max_height": null,
            "max_width": null,
            "min_height": null,
            "min_width": null,
            "object_fit": null,
            "object_position": null,
            "order": null,
            "overflow": null,
            "overflow_x": null,
            "overflow_y": null,
            "padding": null,
            "right": null,
            "top": null,
            "visibility": null,
            "width": null
          }
        },
        "596a16b328f74e2f91895f7dc133b646": {
          "model_module": "@jupyter-widgets/base",
          "model_name": "LayoutModel",
          "model_module_version": "1.2.0",
          "state": {
            "_model_module": "@jupyter-widgets/base",
            "_model_module_version": "1.2.0",
            "_model_name": "LayoutModel",
            "_view_count": null,
            "_view_module": "@jupyter-widgets/base",
            "_view_module_version": "1.2.0",
            "_view_name": "LayoutView",
            "align_content": null,
            "align_items": null,
            "align_self": null,
            "border": null,
            "bottom": null,
            "display": null,
            "flex": null,
            "flex_flow": null,
            "grid_area": null,
            "grid_auto_columns": null,
            "grid_auto_flow": null,
            "grid_auto_rows": null,
            "grid_column": null,
            "grid_gap": null,
            "grid_row": null,
            "grid_template_areas": null,
            "grid_template_columns": null,
            "grid_template_rows": null,
            "height": null,
            "justify_content": null,
            "justify_items": null,
            "left": null,
            "margin": null,
            "max_height": null,
            "max_width": null,
            "min_height": null,
            "min_width": null,
            "object_fit": null,
            "object_position": null,
            "order": null,
            "overflow": null,
            "overflow_x": null,
            "overflow_y": null,
            "padding": null,
            "right": null,
            "top": null,
            "visibility": null,
            "width": null
          }
        },
        "4f71a45335a246199316af2ccd337aa5": {
          "model_module": "@jupyter-widgets/controls",
          "model_name": "DescriptionStyleModel",
          "model_module_version": "1.5.0",
          "state": {
            "_model_module": "@jupyter-widgets/controls",
            "_model_module_version": "1.5.0",
            "_model_name": "DescriptionStyleModel",
            "_view_count": null,
            "_view_module": "@jupyter-widgets/base",
            "_view_module_version": "1.2.0",
            "_view_name": "StyleView",
            "description_width": ""
          }
        },
        "625423cbe2e448e4956f5d2dd8e7ac1a": {
          "model_module": "@jupyter-widgets/base",
          "model_name": "LayoutModel",
          "model_module_version": "1.2.0",
          "state": {
            "_model_module": "@jupyter-widgets/base",
            "_model_module_version": "1.2.0",
            "_model_name": "LayoutModel",
            "_view_count": null,
            "_view_module": "@jupyter-widgets/base",
            "_view_module_version": "1.2.0",
            "_view_name": "LayoutView",
            "align_content": null,
            "align_items": null,
            "align_self": null,
            "border": null,
            "bottom": null,
            "display": null,
            "flex": null,
            "flex_flow": null,
            "grid_area": null,
            "grid_auto_columns": null,
            "grid_auto_flow": null,
            "grid_auto_rows": null,
            "grid_column": null,
            "grid_gap": null,
            "grid_row": null,
            "grid_template_areas": null,
            "grid_template_columns": null,
            "grid_template_rows": null,
            "height": null,
            "justify_content": null,
            "justify_items": null,
            "left": null,
            "margin": null,
            "max_height": null,
            "max_width": null,
            "min_height": null,
            "min_width": null,
            "object_fit": null,
            "object_position": null,
            "order": null,
            "overflow": null,
            "overflow_x": null,
            "overflow_y": null,
            "padding": null,
            "right": null,
            "top": null,
            "visibility": null,
            "width": null
          }
        },
        "48296dc5c652461f8dacf3f6cd0d3f08": {
          "model_module": "@jupyter-widgets/controls",
          "model_name": "ProgressStyleModel",
          "model_module_version": "1.5.0",
          "state": {
            "_model_module": "@jupyter-widgets/controls",
            "_model_module_version": "1.5.0",
            "_model_name": "ProgressStyleModel",
            "_view_count": null,
            "_view_module": "@jupyter-widgets/base",
            "_view_module_version": "1.2.0",
            "_view_name": "StyleView",
            "bar_color": null,
            "description_width": ""
          }
        }
      }
    }
  },
  "nbformat": 4,
  "nbformat_minor": 0
}